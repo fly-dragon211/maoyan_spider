{
 "cells": [
  {
   "cell_type": "code",
   "execution_count": null,
   "metadata": {},
   "outputs": [
    {
     "name": "stdout",
     "output_type": "stream",
     "text": [
      "Sucessful to download 0policy.pdf\n",
      "http://speech.ee.ntu.edu.tw/~tlkagk/courses/ML_2017_2/Lecture/introduction.pdf url file not found\n",
      "Sucessful to download 2Regression.pdf\n",
      "http://speech.ee.ntu.edu.tw/~tlkagk/courses/ML_2016/Lecture/Bias%20and%20Variance%20(v2).pdf url file not found\n",
      "http://speech.ee.ntu.edu.tw/~tlkagk/courses/ML_2016/Lecture/Gradient%20Descent%20(v2).pdf url file not found\n"
     ]
    }
   ],
   "source": [
    "import requests\n",
    "import re\n",
    "import os\n",
    "from requests.exceptions import RequestException\n",
    "from lxml import etree\n",
    "\n",
    "\n",
    "def get_one_page(url):\n",
    "    try:\n",
    "        headers = {'user-agent': 'Mozilla/5.0 (Windows NT 10.0; WOW64) '\n",
    "                                'AppleWebKit/537.36 (KHTML, like Gecko) Chrome/63.0.3239.132 Safari/537.36'}\n",
    "        response = requests.get(url, headers=headers)\n",
    "        if response.status_code == 200:\n",
    "            return response\n",
    "        return None\n",
    "    except RequestException:\n",
    "        print('Requests error!')\n",
    "        return None\n",
    "\n",
    "\n",
    "def get_pdf_url(response):\n",
    "    url_head = 'http://speech.ee.ntu.edu.tw/~tlkagk/'\n",
    "    pdf_url = []\n",
    "    pdf_name = re.findall(r'<a href=\"(.*?)\">pdf', response.text)\n",
    "    for i, each in enumerate(pdf_name):\n",
    "        pdf_url.append(url_head + each.replace(' ', '%20'))\n",
    "        pdf_name[i] = str(i) + each.split('/')[-1]\n",
    "    \n",
    "    return (pdf_url, pdf_name)\n",
    "\n",
    "def getFile(url, file_name):\n",
    "    #判断文件是否存在\n",
    "    if os.path.exists(file_name):\n",
    "        print(\"File has exist!\")\n",
    "        return\n",
    "    try:\n",
    "        res = get_one_page(url)\n",
    "    except:\n",
    "       #碰到了匹配但不存在的文件时，提示并返回\n",
    "        print(url, \"url file not found\")\n",
    "        return\n",
    "    with open(file_name, 'wb') as f:\n",
    "        f.write(res.content)\n",
    "\n",
    "    print (\"Sucessful to download\" + \" \" + file_name)\n",
    "    \n",
    "if __name__ == '__main__':\n",
    "    folder = 'Li_pdf'\n",
    "    if not os.path.exists(folder):\n",
    "        os.mkdir(folder)\n",
    "    os.chdir(folder)\n",
    "\n",
    "    url = 'http://speech.ee.ntu.edu.tw/~tlkagk/courses_ML17_2.html'\n",
    "    res = get_one_page(url)\n",
    "    pdf_url_list, pdf_name_list = get_pdf_url(response=res)\n",
    "    \n",
    "    \n",
    "    for i in range(len(pdf_name_list)):\n",
    "        getFile(pdf_url_list[i], pdf_name_list[i])\n",
    "        \n",
    "    print('All completed')\n",
    "    "
   ]
  }
 ],
 "metadata": {
  "kernelspec": {
   "display_name": "Python 3",
   "language": "python",
   "name": "python3"
  },
  "language_info": {
   "codemirror_mode": {
    "name": "ipython",
    "version": 3
   },
   "file_extension": ".py",
   "mimetype": "text/x-python",
   "name": "python",
   "nbconvert_exporter": "python",
   "pygments_lexer": "ipython3",
   "version": "3.6.5"
  }
 },
 "nbformat": 4,
 "nbformat_minor": 2
}
