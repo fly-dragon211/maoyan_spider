{
 "cells": [
  {
   "cell_type": "markdown",
   "metadata": {},
   "source": [
    "# 发邮件"
   ]
  },
  {
   "cell_type": "code",
   "execution_count": 31,
   "metadata": {},
   "outputs": [],
   "source": [
    "#!/usr/bin/python\n",
    "# -*- coding: UTF-8 -*-\n",
    "import smtplib\n",
    "from email.mime.text import MIMEText\n",
    "from email.header import Header\n",
    "\n",
    "\n",
    "def send_mail():\n",
    "    # 第三方 SMTP 服务\n",
    "    mail_host=\"mail.buct.edu.cn\"  #设置服务器\n",
    "    mail_user=\"2016016164\"    #用户名\n",
    "    mail_pass=\"19990225\"   #口令 \n",
    "\n",
    "    sender = 'hufan@mail.buct.edu.cn'\n",
    "    receivers = ['hufan_hf@qq.com']  # 接收邮件，可设置为你的QQ邮箱或者其他邮箱\n",
    "\n",
    "    message = MIMEText('Python 邮件发送测试...', 'plain', 'utf-8')\n",
    "    message['From'] = Header(\"server\", 'utf-8')\n",
    "    message['To'] =  Header(\"me\", 'utf-8')\n",
    "\n",
    "    subject = '可以选课了'\n",
    "    message['Subject'] = Header(subject, 'utf-8')\n",
    "\n",
    "    try:\n",
    "        smtpObj = smtplib.SMTP() \n",
    "        smtpObj.connect(mail_host, 25)    # 25 为 SMTP 端口号\n",
    "        smtpObj.login(mail_user,mail_pass)  \n",
    "        smtpObj.sendmail(sender, receivers, message.as_string())\n",
    "        print(\"邮件发送成功\")\n",
    "    except smtplib.SMTPException as e:\n",
    "        print(e)\n",
    "        print(\"无法发送邮件\")"
   ]
  },
  {
   "cell_type": "markdown",
   "metadata": {},
   "source": [
    "# 查找课表\n",
    "\n",
    "查找操作系统有没有满，没满就发邮件\n",
    "\n",
    "\n",
    "\n",
    "参考\n",
    "- [Python 从零开始爬虫(九)——模拟登录，cookie的使用](https://segmentfault.com/a/1190000015826749)\n",
    "- http://www.tastones.com/tutorial/python-selenium/selenium-click-button/"
   ]
  },
  {
   "cell_type": "code",
   "execution_count": 9,
   "metadata": {
    "scrolled": true
   },
   "outputs": [
    {
     "name": "stderr",
     "output_type": "stream",
     "text": [
      "[WDM] - Current google-chrome version is 84.0.4147\n",
      "[WDM] - Get LATEST driver version for 84.0.4147\n",
      "[WDM] - Driver [C:\\Users\\hufan\\.wdm\\drivers\\chromedriver\\win32\\84.0.4147.30\\chromedriver.exe] found in cache\n"
     ]
    },
    {
     "name": "stdout",
     "output_type": "stream",
     "text": [
      " \n"
     ]
    }
   ],
   "source": [
    "# ! pip install webdriver-manager --user\n",
    "import sys\n",
    "from selenium import webdriver\n",
    "from webdriver_manager.chrome import ChromeDriverManager\n",
    "\n",
    "\n",
    "Browser_drive = ChromeDriverManager().install()\n",
    "\n",
    "Browser = webdriver.Chrome\n",
    "\n",
    "option = webdriver.ChromeOptions()\n",
    "# option.add_argument('headless') # 设置option，后台打开"
   ]
  },
  {
   "cell_type": "code",
   "execution_count": 12,
   "metadata": {
    "scrolled": true
   },
   "outputs": [
    {
     "name": "stderr",
     "output_type": "stream",
     "text": [
      "C:\\ProgramData\\Anaconda3\\lib\\site-packages\\ipykernel_launcher.py:9: DeprecationWarning: use options instead of chrome_options\n",
      "  if __name__ == '__main__':\n"
     ]
    },
    {
     "name": "stdout",
     "output_type": "stream",
     "text": [
      "<html lang=\"zh-CN\" class=\"\"><head><meta http-equiv=\"Content-Type\" content=\"text/html; charset=utf-8\"><meta name=\"renderer\" content=\"webkit\"><meta http-equiv=\"X-UA-Compatible\" content=\"IE=edge,Chrome=1\"><meta name=\"viewport\" content=\"width=device-width,initial-scale=1\"><meta http-equiv=\"Pragma\" content=\"no-cache\"><meta http-equiv=\"Cache-Control\" content=\"no-cache\"><meta http-equiv=\"Expires\" content=\"0\"><meta http-equiv=\"Cache\" content=\"no-cache\"><title>研究生选课</title><link rel=\"stylesheet\" type=\"text/css\" href=\"//yjs.ruc.edu.cn:81/1.8.1_TR16/products/yjs/xsxkapp/indexjsp.min.css?v=1600725817570\"><script type=\"text/javascript\" src=\"http://yjs.ruc.edu.cn/yjsxkapp/sys/xsxkapp/public/indexStdInfoContent.js?v=1600725817570\"></script><script type=\"text/javascript\" src=\"//yjs.ruc.edu.cn:81/1.8.1_TR16/products/yjs/xsxkapp/indexjsp.js?v=1600725817570\"></script><style type=\"text/css\">.zeromodal-scroll-margin{margin-right:17px;}</style></head><body class=\"theme-blue\"><div id=\"index_main_container\" class=\"main\" style=\"display: block;\"><header class=\"cv-page-header cv-absolute cv-clearfix-child\"><div id=\"logoDiv\" style=\"float:left\"><img style=\"height:40px;\" src=\"//yjs.ruc.edu.cn:81/1.8.1_TR16/images/logo.png\"></div><nav><a style=\"display:none\" id=\"switchLang\" href=\"./index_en.html\">English</a> <span style=\"display:none\" id=\"logout\">退出</span></nav></header><article class=\"cv-banner\"><div class=\"cv-banner-bg\"><div></div></div><section id=\"cv-xklc\" class=\"cv-clearfix-child\"><div class=\"cv-no-start cv-clearfix-child\" id=\"noStartDiv\" style=\"display:none\"><div id=\"xkwks_img1\" style=\"width:316px;height:360px;float:left\"></div><div class=\"cv-content\"><div id=\"xkwks_img2\"></div><div><div class=\"cv-first\" style=\"margin-bottom:8px\">同学：目前选课还未开始哦</div><div class=\"cv-last\">请耐心等待校方通知~</div></div><div id=\"xkwks_img3\"></div></div></div><div class=\"cv-stage-cont cv-pull-left\"><nav id=\"cvStageAxis\" class=\"cv-stage-axis\"><div id=\"cvStageAxis_sjz\" class=\"cv-block cv-active\" style=\"\"><div class=\"cv-row\"><div class=\"cv-left\"></div><div class=\"cv-cycle\"></div><div class=\"cv-right\" id=\"sjz_start\">2020-09-21 10:00:00</div></div><div class=\"cv-row\"><div class=\"cv-left\" style=\"margin-top:20px\" id=\"sjz_name\">2020-2021学年 第一学期第三批次选课</div><div class=\"cv-line\" style=\"height:260px;margin-top:-14px\"></div><div class=\"cv-right\"></div></div><div class=\"cv-row\"><div class=\"cv-left\"></div><div class=\"cv-cycle\"></div><div class=\"cv-right\" id=\"sjz_end\">2020-10-09 10:00:00</div></div><div class=\"cv-row\"><div class=\"cv-left\"></div><div class=\"cv-line-dotted\"></div><div class=\"cv-right\"></div></div></div></nav></div><div class=\"cv-countDown\"><h2><span id=\"cvStageName\" class=\"cvStageNamesf\">2020-2021学年 第一学期第三批次选课</span> <button class=\"cv-btn cv-tag\" type=\"button\" id=\"stateMsg\">进行中</button></h2><div class=\"cv-mb-38\"><div class=\"cv-countDown-start-text\" id=\"timeMsg\">距离结束</div><div id=\"cvFlipClock\" style=\"clear:both\" class=\"flip-clock-wrapper\"><span class=\"flip-clock-divider days\"><span class=\"flip-clock-label\">天</span></span><ul class=\"flip \"><li class=\"flip-clock-before\"><a href=\"#\"><div class=\"up\"><div class=\"shadow\"></div><div class=\"inn\">9</div></div><div class=\"down\"><div class=\"shadow\"></div><div class=\"inn\">9</div></div></a></li><li class=\"flip-clock-active\"><a href=\"#\"><div class=\"up\"><div class=\"shadow\"></div><div class=\"inn\">0</div></div><div class=\"down\"><div class=\"shadow\"></div><div class=\"inn\">0</div></div></a></li></ul><ul class=\"flip \"><li class=\"flip-clock-before\"><a href=\"#\"><div class=\"up\"><div class=\"shadow\"></div><div class=\"inn\">1</div></div><div class=\"down\"><div class=\"shadow\"></div><div class=\"inn\">1</div></div></a></li><li class=\"flip-clock-active\"><a href=\"#\"><div class=\"up\"><div class=\"shadow\"></div><div class=\"inn\">1</div></div><div class=\"down\"><div class=\"shadow\"></div><div class=\"inn\">1</div></div></a></li></ul><ul class=\"flip \"><li class=\"flip-clock-before\"><a href=\"#\"><div class=\"up\"><div class=\"shadow\"></div><div class=\"inn\">3</div></div><div class=\"down\"><div class=\"shadow\"></div><div class=\"inn\">3</div></div></a></li><li class=\"flip-clock-active\"><a href=\"#\"><div class=\"up\"><div class=\"shadow\"></div><div class=\"inn\">4</div></div><div class=\"down\"><div class=\"shadow\"></div><div class=\"inn\">4</div></div></a></li></ul><span class=\"flip-clock-divider hours\"><span class=\"flip-clock-label\">小时</span></span><ul class=\"flip \"><li class=\"flip-clock-before\"><a href=\"#\"><div class=\"up\"><div class=\"shadow\"></div><div class=\"inn\">1</div></div><div class=\"down\"><div class=\"shadow\"></div><div class=\"inn\">1</div></div></a></li><li class=\"flip-clock-active\"><a href=\"#\"><div class=\"up\"><div class=\"shadow\"></div><div class=\"inn\">1</div></div><div class=\"down\"><div class=\"shadow\"></div><div class=\"inn\">1</div></div></a></li></ul><ul class=\"flip \"><li class=\"flip-clock-before\"><a href=\"#\"><div class=\"up\"><div class=\"shadow\"></div><div class=\"inn\">4</div></div><div class=\"down\"><div class=\"shadow\"></div><div class=\"inn\">4</div></div></a></li><li class=\"flip-clock-active\"><a href=\"#\"><div class=\"up\"><div class=\"shadow\"></div><div class=\"inn\">5</div></div><div class=\"down\"><div class=\"shadow\"></div><div class=\"inn\">5</div></div></a></li></ul><span class=\"flip-clock-divider minutes\"><span class=\"flip-clock-label\">分钟</span></span><ul class=\"flip \"><li class=\"flip-clock-before\"><a href=\"#\"><div class=\"up\"><div class=\"shadow\"></div><div class=\"inn\">9</div></div><div class=\"down\"><div class=\"shadow\"></div><div class=\"inn\">9</div></div></a></li><li class=\"flip-clock-active\"><a href=\"#\"><div class=\"up\"><div class=\"shadow\"></div><div class=\"inn\">0</div></div><div class=\"down\"><div class=\"shadow\"></div><div class=\"inn\">0</div></div></a></li></ul><ul class=\"flip \"><li class=\"flip-clock-before\"><a href=\"#\"><div class=\"up\"><div class=\"shadow\"></div><div class=\"inn\">9</div></div><div class=\"down\"><div class=\"shadow\"></div><div class=\"inn\">9</div></div></a></li><li class=\"flip-clock-active\"><a href=\"#\"><div class=\"up\"><div class=\"shadow\"></div><div class=\"inn\">0</div></div><div class=\"down\"><div class=\"shadow\"></div><div class=\"inn\">0</div></div></a></li></ul></div></div><div class=\"cv-mb-38\" style=\"position:relative\"><div class=\"cv-countDown-start-text\" style=\"margin-top:10px\">选课策略</div><div id=\"xkclDiv\" class=\"cv-xkms\">可选可退</div></div></div><div class=\"cv-login\" id=\"loginDiv\" style=\"\"><h3>登录</h3><h5>LOGIN</h5><div id=\"loginNameDiv\"><input role=\"login\" type=\"text\" id=\"loginName\" placeholder=\"用户名(学号)\"></div><div id=\"loginPwdDiv\"><input role=\"login\" type=\"password\" id=\"loginPwd\" placeholder=\"密码\"></div><div class=\"cv-verification-code\" id=\"verifyCodeDiv\"><input role=\"login\" type=\"text\" id=\"verifyCode\" placeholder=\"验证码\"> <img id=\"vcodeImg\" src=\"http://yjs.ruc.edu.cn/yjsxkapp/sys/xsxkapp/login/vcode/image.do?vtoken=95d65a73-79e9-47ad-aecc-3b50db9307d7\"></div><button class=\"cv-btn cv-btn-error\" type=\"button\" id=\"errorMsg\" style=\"display:none\">请填写用户名</button> <button class=\"cv-btn\" type=\"button\" id=\"studentLoginBtn\">登 录</button></div><div class=\"cv-user\" id=\"stundentinfoDiv\" style=\"display:none\"><div id=\"user_loadingDiv\" style=\"display:none\">正在加载，请稍候...</div><div id=\"user_contentDiv\"><div class=\"cv-clearfix-child\"><div class=\"cv-user-info-img\" id=\"cv-user-info-img\"></div><div class=\"cv-user-info-option\"><h5 class=\"cv-mb-8\">欢迎你&nbsp;<span id=\"user_name_span\"></span></h5><div class=\"cv-mb-4 ellipsis\" id=\"user_yx_span\" style=\"line-height:18px\"></div><div id=\"user_nj_span\" style=\"line-height:18px\"></div></div></div><div id=\"cvCreditChart\" class=\"cv-credit-chart\" style=\"width:140px;height:140px;margin-top:16px\"></div><div id=\"cvCreditInfo\" class=\"cv-credit-info cv-clearfix-child cv-mb-8\"></div><div id=\"user_btnDiv\" class=\"cv-user-my-plan\" style=\"padding-top:8px;text-align:center\"></div><div class=\"cv-user-my-plan\" style=\"padding-top:16px;text-align:center\"><a href=\"javascript:void(0);\" id=\"gotoMyCourseTable\" style=\"font-size:14px\">查看我的课表</a></div></div></div></section></article><article class=\"cv-modules cv-clearfix-child\"><section class=\"cv-pull-left cv-service-manual\"><header><h3>操作手册（点击下图查看）</h3></header><div id=\"czsc_div\"><a href=\"//yjs.ruc.edu.cn:81/1.8.1_TR16/products/yjs/xsxkapp/images/index/ydt.jpg\" target=\"_blank\"> <img src=\"//yjs.ruc.edu.cn:81/1.8.1_TR16/products/yjs/xsxkapp/images/index/service-manual-bg.png\"><div><div>一张图</div><div>看懂</div><div>该怎么选课</div></div></a></div></section><section class=\"cv-pull-right\"><header class=\"cv-mb-38\"><h3>通知公告</h3></header><div id=\"cvNotificationList\" class=\"cv-notification-list\"><div>\t<a role=\"xtgg\" role-wid=\"d1d66323b2c4415982c06c02edbd7e70\" href=\"javascript:void(0)\" class=\"publicinfo-title\">制定个人培养计划及学期选课说明</a>\t<span>2020-04-09</span></div><div>\t<a role=\"xtgg\" role-wid=\"276ccac8545f42ffa1a77657942d3547\" href=\"javascript:void(0)\" class=\"publicinfo-title\">跨专业选课注意事项</a>\t<span>2020-04-09</span></div><div>\t<a role=\"xtgg\" role-wid=\"199efc7a81bb45299f74e745711a4f6d\" href=\"javascript:void(0)\" class=\"publicinfo-title\">查看本学期所有已开课程的方法</a>\t<span>2020-04-09</span></div><div>\t<a role=\"xtgg\" role-wid=\"aba07ab9a63348968ac2315be27eaf46\" href=\"javascript:void(0)\" class=\"publicinfo-title\">Notice about Course selection for Overseas Students</a>\t<span>2020-04-09</span></div><div>\t<a role=\"xtgg\" role-wid=\"ee908d3f33fe435daac9c9326bb00354\" href=\"javascript:void(0)\" class=\"publicinfo-title\">提醒：请各位同学务必在选课之前处理学费的相关事项</a>\t<span>2020-04-09</span></div></div></section><section class=\"cv-pull-left\"><header class=\"cv-mb-38\"><h3>常见问题</h3></header><div id=\"cvProblemList\" class=\"cv-problem-list\"><div>\t<a role=\"cjwt\" role-wid=\"247539af8fa84534b9cd76ddee4e06e1\" href=\"javascript:void(0)\" class=\"publicinfo-title\">登陆选课提示账号或密码错误。</a>\t<span class=\"cv-wzsl\">微人大可以成功登陆。使用微人大账号、密码登陆选课系统提示账号或密码错误。（确认账号密码，如果是没改过初始密码，修改微人大密码后可登录系统。）</span></div><div>\t<a role=\"cjwt\" role-wid=\"79d3d60fc42040688c840c2e1b0531ce\" href=\"javascript:void(0)\" class=\"publicinfo-title\">可选课程，已选课程，开课课程解释</a>\t<span class=\"cv-wzsl\">可选课程：学生培养计划里面维护了该课程，并且该课程的选课学期为第一或者第二学期的课程。 已选课程：已经中的课程 开课课程：本次所有已经开课的课程。 计划内：培养计划内课程</span></div></div></section><section class=\"cv-pull-right\"><header class=\"cv-mb-56\"><h3>咨询方式</h3></header><div class=\"cv-consulting\"><div id=\"zxfs_bg\" class=\"zxfs_bg\"></div><h3></h3><div class=\"cv-consulting-phone\"><div class=\"cv-mb-4\" id=\"zxfs_sj\">18610462282</div><div id=\"zxfs_dh\"></div></div><div class=\"cv-consulting-other\"><div class=\"cv-mb-4\" id=\"zxfs_email\"></div><div id=\"zxfs_qq\"></div></div></div></section></article><footer class=\"cv-page-footer\"><div id=\"ecDiv\">如遇选择课程类别和科目有疑问，请联系学院教务老师解决。\n",
      "\n",
      "如选课过程中遇到系统性故障，可直接联系系统工程师 张老师：18610462282\n",
      "</div><div id=\"cDiv\"></div><div class=\"cv-mb-38 cv-caption-text\" id=\"authorDiv\"></div><div id=\"cv_copyright\" class=\"cv-copyright\"></div></footer></div><script type=\"text/javascript\">var path_ggf=window.location.href;var end_ggf=path_ggf.indexOf(\"/sys/\");var context_path=path_ggf.substring(0,end_ggf);var BaseUrl=context_path;var length=BaseUrl.length;if(BaseUrl.indexOf(length-1,length)==\"/\"){BaseUrl=BaseUrl.substring(0,length-1)}var commonUtil={loadJsCss:function(a,b,d){var c;if(b==\"js\"){c=document.createElement(\"script\");c.setAttribute(\"type\",\"text/javascript\");c.setAttribute(\"src\",a)}else{if(b==\"css\"){c=document.createElement(\"link\");c.setAttribute(\"rel\",\"stylesheet\");c.setAttribute(\"type\",\"text/css\");c.setAttribute(\"href\",a)}}if(c){if(c.addEventListener){c.addEventListener(\"load\",function(){typeof d===\"function\"&&d()},false)}else{if(c.attachEvent){c.attachEvent(\"onreadystatechange\",function(){var e=window.event.srcElement;if(e.readyState==\"loaded\"){typeof d===\"function\"&&d()}})}}document.getElementsByTagName(\"head\")[0].appendChild(c)}},ajax:function(a,b,c){commonUtil.simpleAjax({url:a.url,dataType:a.dataType,data:b,type:a.type,success:function(d){if(typeof c===\"function\"){c(d)}},error:function(d){}})},get:function(a,b,c){commonUtil.ajax({url:a,dataType:\"json\",type:\"get\",},b,c)},post:function(a,b,c){commonUtil.ajax({url:a,dataType:\"json\",type:\"post\",},b,c)},getRootPath:function(){var b=window.document.location.href;var c=window.document.location.pathname;var e=b.indexOf(c);var d=b.substring(0,e);var a=c.substring(0,c.substr(1).indexOf(\"/\")+1);return(d+a)},simpleAjax:function(b){b.data=b.data||\"\";b.type=b.type||\"get\";if(!b.url){throw new Error(\"未指定连接\")}b.async=b.async||true;var a;if(window.VBArray){a=new ActiveXObject(\"Msxml2.XMLHTTP\")}else{a=new XMLHttpRequest()}a.open(b.type,b.url,b.async);a.onreadystatechange=function(){if(a.status==200){if(a.readyState==4){b.success?b.success(a.responseText):\"\"}}else{throw new Error(\"请求失败，状态码：\"+a.status)}};if(b.type==\"get\"){a.send()}else{a.setRequestHeader(\"Content-type\",\"application/x-www-form-urlencoded\");a.send(b.data)}},isBlank:function(a){return a===undefined||a===null||a===\"\"},strOf:function(a){return a!=undefined&&a!=null&&a!==\"\"?(a+\"\"):\"\"},gotoDzPage:function(a,c){if(!window.WIS_PUBLIC_INFO){return}var b=\"\";var d=a===\"course\"?window.WIS_PUBLIC_INFO[\"coursePage\"]:window.WIS_PUBLIC_INFO[\"indexPage\"];if(!commonUtil.isBlank(d)){b=c+d+\".html\"}else{b=c+a+\".html\"}location.href=b},checkAndGoDzPage:function(d,b){if(commonUtil.isBlank(d)){return}var a=location.href.split(\"#\")[0].split(\"/\");var c=a[a.length-1].replace(\".html\",\"\");if(c.indexOf(\"en\")!==-1){return}if(d!==c){location.href=b+d+\".html\"}},getProjectName:function(){var b=window.document.location.href;var c=window.document.location.pathname;var e=b.indexOf(c);var d=b.substring(0,e);var a=c.substring(0,c.substr(1).indexOf(\"/\")+1);return a+\"/\"}};var cookieUtil={set:function set(a,c){var b=30;var d=new Date();d.setTime(d.getTime()+b*24*60*60*1000);document.cookie=a+\"=\"+escape(c)+\";expires=\"+d.toGMTString()+\";path=\"+commonUtil.getProjectName()},get:function(b){var a,c=new RegExp(\"(^| )\"+b+\"=([^;]*)(;|$)\");if(a=document.cookie.match(c)){return unescape(a[2])}else{return null}}};\n",
      "\n",
      "\t\tcookieUtil.set('EMAP_LANG','zh');\n",
      "\t\tcommonUtil.get(commonUtil.getRootPath()+'/sys/xsxkapp/xsxkHome/loadPublicInfo_index.do',{},function(r) {\n",
      "\t\t\twindow.WIS_PUBLIC_INFO=JSON.parse(r);\n",
      "\t\t\twindow.xkCache={publicInfo:window.WIS_PUBLIC_INFO};\n",
      "\t\t\twindow.loginUserId=window.WIS_PUBLIC_INFO.loginUserId;\n",
      "\t\t\twindow.appLogoutPath=window.WIS_PUBLIC_INFO.appLogoutPath;\n",
      "\t\t\twindow.gotoWdjhPath=window.WIS_PUBLIC_INFO.gotoWdjhPath;\n",
      "\t\t\twindow.WIS_PUBLIC_INFO.lcxxMap=window.WIS_PUBLIC_INFO.lcxx;\n",
      "\t\t\twindow.WIS_LCXX=window.WIS_PUBLIC_INFO.lcxxMap;\n",
      "\t\t\tvar theme=commonUtil.isBlank(window.WIS_PUBLIC_INFO.theme)?'theme-blue':window.WIS_PUBLIC_INFO.theme;\n",
      "\t\t\tdocument.getElementsByTagName('body')[0].classList.add(theme);\n",
      "\n",
      "\t\t\tcommonUtil.checkAndGoDzPage(window.WIS_PUBLIC_INFO.indexPage||'index',BaseUrl+'/sys/xsxkapp/');\n",
      "\t\t\tcommonUtil.loadJsCss(WIS_PUBLIC_INFO.resUrl+'/xsxkapp/indexjsp.min.css?v='+window.WIS_PUBLIC_INFO.system_boot_time,'css',function(){\n",
      "\t\t\t\tdocument.getElementById('index_main_container').style.display='block';\n",
      "\t\t\t});\n",
      "\n",
      "\t\t\tvar define = !commonUtil.isBlank(window.WIS_PUBLIC_INFO.stdInfoContentDefine)?('_'+window.WIS_PUBLIC_INFO.stdInfoContentDefine):'';\n",
      "\t\t\tcommonUtil.loadJsCss(BaseUrl+'/sys/xsxkapp/public/indexStdInfoContent'+define+'.js?v='+window.WIS_PUBLIC_INFO.system_boot_time,'js');\n",
      "\t\t\tcommonUtil.loadJsCss(WIS_PUBLIC_INFO.resUrl+'/xsxkapp/indexjsp.js?v='+window.WIS_PUBLIC_INFO.system_boot_time,'js',function(){\n",
      "\t\t\t\tif (window.WIS_PUBLIC_INFO.loginType==='other'&&commonUtil.isBlank(window.WIS_PUBLIC_INFO.loginUserId)){\n",
      "\t\t\t\t\tzeroModal.error({content:'还未登陆不能选课！',esc:false,okTitle:'点击进入登陆',okFn:function(){location.href=commonUtil.getRootPath()+'/sys/xsxkapp/*default/index.do';}});\n",
      "\t\t\t\t\t$('#studentLoginBtn').attr('disabled','disabled');\n",
      "\t\t\t\t}\n",
      "\t\t\t});\n",
      "\t\t});</script></body></html>\n"
     ]
    }
   ],
   "source": [
    "import selenium\n",
    "import re\n",
    "import time\n",
    "import json\n",
    "from selenium.webdriver.common.keys import Keys\n",
    "\n",
    "# help(selenium.webdriver)\n",
    "from selenium import webdriver\n",
    "\n",
    "browser = Browser(Browser_drive, chrome_options=option)\n",
    "\n",
    "browser.get(\"http://yjs.ruc.edu.cn/yjsxkapp/sys/xsxkapp/index.html\")\n",
    "time.sleep(20)  # 这时输入密码\n",
    "print(browser.page_source)"
   ]
  },
  {
   "cell_type": "code",
   "execution_count": 13,
   "metadata": {},
   "outputs": [
    {
     "name": "stdout",
     "output_type": "stream",
     "text": [
      "现在还是满的\n"
     ]
    },
    {
     "ename": "KeyboardInterrupt",
     "evalue": "",
     "output_type": "error",
     "traceback": [
      "\u001b[1;31m---------------------------------------------------------------------------\u001b[0m",
      "\u001b[1;31mKeyboardInterrupt\u001b[0m                         Traceback (most recent call last)",
      "\u001b[1;32m<ipython-input-13-84db1b71f298>\u001b[0m in \u001b[0;36m<module>\u001b[1;34m\u001b[0m\n\u001b[0;32m     11\u001b[0m     \u001b[1;32mif\u001b[0m \u001b[0mre\u001b[0m\u001b[1;33m.\u001b[0m\u001b[0msearch\u001b[0m\u001b[1;33m(\u001b[0m\u001b[1;34m'已满'\u001b[0m\u001b[1;33m,\u001b[0m \u001b[0mbrowser\u001b[0m\u001b[1;33m.\u001b[0m\u001b[0mpage_source\u001b[0m\u001b[1;33m)\u001b[0m \u001b[1;32mis\u001b[0m \u001b[1;32mnot\u001b[0m \u001b[1;32mNone\u001b[0m\u001b[1;33m:\u001b[0m\u001b[1;33m\u001b[0m\u001b[1;33m\u001b[0m\u001b[0m\n\u001b[0;32m     12\u001b[0m         \u001b[0mprint\u001b[0m\u001b[1;33m(\u001b[0m\u001b[1;34m\"现在还是满的\"\u001b[0m\u001b[1;33m)\u001b[0m\u001b[1;33m\u001b[0m\u001b[1;33m\u001b[0m\u001b[0m\n\u001b[1;32m---> 13\u001b[1;33m     \u001b[0mtime\u001b[0m\u001b[1;33m.\u001b[0m\u001b[0msleep\u001b[0m\u001b[1;33m(\u001b[0m\u001b[1;36m2\u001b[0m\u001b[1;33m*\u001b[0m\u001b[1;36m60\u001b[0m\u001b[1;33m)\u001b[0m\u001b[1;33m\u001b[0m\u001b[1;33m\u001b[0m\u001b[0m\n\u001b[0m\u001b[0;32m     14\u001b[0m \u001b[1;33m\u001b[0m\u001b[0m\n",
      "\u001b[1;31mKeyboardInterrupt\u001b[0m: "
     ]
    }
   ],
   "source": [
    "while(True):\n",
    "    browser.get('http://yjs.ruc.edu.cn/yjsxkapp/sys/xsxkapp/course.html')\n",
    "    time.sleep(3)\n",
    "\n",
    "    # 点击查看课表\n",
    "    browser.find_element_by_xpath('//a[@id=\"xkkctab_99\"]').click()\n",
    "    time.sleep(1)\n",
    "    browser.find_element_by_xpath('//input[@id=\"allkc_searchInput\"]'\n",
    "                                 ).send_keys('高级操作系统', Keys.ENTER)\n",
    "\n",
    "    if re.search('已满', browser.page_source) is not None:\n",
    "        print(\"现在还是满的\")\n",
    "    time.sleep(2*60)\n",
    "\n"
   ]
  },
  {
   "cell_type": "code",
   "execution_count": 12,
   "metadata": {},
   "outputs": [
    {
     "name": "stderr",
     "output_type": "stream",
     "text": [
      "[WDM] - Current google-chrome version is 84.0.4147\n",
      "[WDM] - Get LATEST driver version for 84.0.4147\n"
     ]
    },
    {
     "name": "stdout",
     "output_type": "stream",
     "text": [
      " \n"
     ]
    },
    {
     "name": "stderr",
     "output_type": "stream",
     "text": [
      "[WDM] - Driver [C:\\Users\\hufan\\.wdm\\drivers\\chromedriver\\win32\\84.0.4147.30\\chromedriver.exe] found in cache\n",
      "C:\\ProgramData\\Anaconda3\\lib\\site-packages\\ipykernel_launcher.py:25: DeprecationWarning: use options instead of chrome_options\n"
     ]
    },
    {
     "ename": "NoSuchElementException",
     "evalue": "Message: no such element: Unable to locate element: {\"method\":\"xpath\",\"selector\":\"//a[@id=\"xkkctab_99\"]\"}\n  (Session info: chrome=84.0.4147.125)\n",
     "output_type": "error",
     "traceback": [
      "\u001b[1;31m---------------------------------------------------------------------------\u001b[0m",
      "\u001b[1;31mNoSuchElementException\u001b[0m                    Traceback (most recent call last)",
      "\u001b[1;32m<ipython-input-12-e7665805b84f>\u001b[0m in \u001b[0;36m<module>\u001b[1;34m\u001b[0m\n\u001b[0;32m     65\u001b[0m \u001b[1;33m\u001b[0m\u001b[0m\n\u001b[0;32m     66\u001b[0m     \u001b[1;31m# 点击查看课表\u001b[0m\u001b[1;33m\u001b[0m\u001b[1;33m\u001b[0m\u001b[1;33m\u001b[0m\u001b[0m\n\u001b[1;32m---> 67\u001b[1;33m     \u001b[0mbrowser\u001b[0m\u001b[1;33m.\u001b[0m\u001b[0mfind_element_by_xpath\u001b[0m\u001b[1;33m(\u001b[0m\u001b[1;34m'//a[@id=\"xkkctab_99\"]'\u001b[0m\u001b[1;33m)\u001b[0m\u001b[1;33m.\u001b[0m\u001b[0mclick\u001b[0m\u001b[1;33m(\u001b[0m\u001b[1;33m)\u001b[0m\u001b[1;33m\u001b[0m\u001b[1;33m\u001b[0m\u001b[0m\n\u001b[0m\u001b[0;32m     68\u001b[0m     \u001b[0mtime\u001b[0m\u001b[1;33m.\u001b[0m\u001b[0msleep\u001b[0m\u001b[1;33m(\u001b[0m\u001b[1;36m1\u001b[0m\u001b[1;33m)\u001b[0m\u001b[1;33m\u001b[0m\u001b[1;33m\u001b[0m\u001b[0m\n\u001b[0;32m     69\u001b[0m     browser.find_element_by_xpath('//input[@id=\"allkc_searchInput\"]'\n",
      "\u001b[1;32mC:\\ProgramData\\Anaconda3\\lib\\site-packages\\selenium\\webdriver\\remote\\webdriver.py\u001b[0m in \u001b[0;36mfind_element_by_xpath\u001b[1;34m(self, xpath)\u001b[0m\n\u001b[0;32m    392\u001b[0m             \u001b[0melement\u001b[0m \u001b[1;33m=\u001b[0m \u001b[0mdriver\u001b[0m\u001b[1;33m.\u001b[0m\u001b[0mfind_element_by_xpath\u001b[0m\u001b[1;33m(\u001b[0m\u001b[1;34m'//div/td[1]'\u001b[0m\u001b[1;33m)\u001b[0m\u001b[1;33m\u001b[0m\u001b[1;33m\u001b[0m\u001b[0m\n\u001b[0;32m    393\u001b[0m         \"\"\"\n\u001b[1;32m--> 394\u001b[1;33m         \u001b[1;32mreturn\u001b[0m \u001b[0mself\u001b[0m\u001b[1;33m.\u001b[0m\u001b[0mfind_element\u001b[0m\u001b[1;33m(\u001b[0m\u001b[0mby\u001b[0m\u001b[1;33m=\u001b[0m\u001b[0mBy\u001b[0m\u001b[1;33m.\u001b[0m\u001b[0mXPATH\u001b[0m\u001b[1;33m,\u001b[0m \u001b[0mvalue\u001b[0m\u001b[1;33m=\u001b[0m\u001b[0mxpath\u001b[0m\u001b[1;33m)\u001b[0m\u001b[1;33m\u001b[0m\u001b[1;33m\u001b[0m\u001b[0m\n\u001b[0m\u001b[0;32m    395\u001b[0m \u001b[1;33m\u001b[0m\u001b[0m\n\u001b[0;32m    396\u001b[0m     \u001b[1;32mdef\u001b[0m \u001b[0mfind_elements_by_xpath\u001b[0m\u001b[1;33m(\u001b[0m\u001b[0mself\u001b[0m\u001b[1;33m,\u001b[0m \u001b[0mxpath\u001b[0m\u001b[1;33m)\u001b[0m\u001b[1;33m:\u001b[0m\u001b[1;33m\u001b[0m\u001b[1;33m\u001b[0m\u001b[0m\n",
      "\u001b[1;32mC:\\ProgramData\\Anaconda3\\lib\\site-packages\\selenium\\webdriver\\remote\\webdriver.py\u001b[0m in \u001b[0;36mfind_element\u001b[1;34m(self, by, value)\u001b[0m\n\u001b[0;32m    976\u001b[0m         return self.execute(Command.FIND_ELEMENT, {\n\u001b[0;32m    977\u001b[0m             \u001b[1;34m'using'\u001b[0m\u001b[1;33m:\u001b[0m \u001b[0mby\u001b[0m\u001b[1;33m,\u001b[0m\u001b[1;33m\u001b[0m\u001b[1;33m\u001b[0m\u001b[0m\n\u001b[1;32m--> 978\u001b[1;33m             'value': value})['value']\n\u001b[0m\u001b[0;32m    979\u001b[0m \u001b[1;33m\u001b[0m\u001b[0m\n\u001b[0;32m    980\u001b[0m     \u001b[1;32mdef\u001b[0m \u001b[0mfind_elements\u001b[0m\u001b[1;33m(\u001b[0m\u001b[0mself\u001b[0m\u001b[1;33m,\u001b[0m \u001b[0mby\u001b[0m\u001b[1;33m=\u001b[0m\u001b[0mBy\u001b[0m\u001b[1;33m.\u001b[0m\u001b[0mID\u001b[0m\u001b[1;33m,\u001b[0m \u001b[0mvalue\u001b[0m\u001b[1;33m=\u001b[0m\u001b[1;32mNone\u001b[0m\u001b[1;33m)\u001b[0m\u001b[1;33m:\u001b[0m\u001b[1;33m\u001b[0m\u001b[1;33m\u001b[0m\u001b[0m\n",
      "\u001b[1;32mC:\\ProgramData\\Anaconda3\\lib\\site-packages\\selenium\\webdriver\\remote\\webdriver.py\u001b[0m in \u001b[0;36mexecute\u001b[1;34m(self, driver_command, params)\u001b[0m\n\u001b[0;32m    319\u001b[0m         \u001b[0mresponse\u001b[0m \u001b[1;33m=\u001b[0m \u001b[0mself\u001b[0m\u001b[1;33m.\u001b[0m\u001b[0mcommand_executor\u001b[0m\u001b[1;33m.\u001b[0m\u001b[0mexecute\u001b[0m\u001b[1;33m(\u001b[0m\u001b[0mdriver_command\u001b[0m\u001b[1;33m,\u001b[0m \u001b[0mparams\u001b[0m\u001b[1;33m)\u001b[0m\u001b[1;33m\u001b[0m\u001b[1;33m\u001b[0m\u001b[0m\n\u001b[0;32m    320\u001b[0m         \u001b[1;32mif\u001b[0m \u001b[0mresponse\u001b[0m\u001b[1;33m:\u001b[0m\u001b[1;33m\u001b[0m\u001b[1;33m\u001b[0m\u001b[0m\n\u001b[1;32m--> 321\u001b[1;33m             \u001b[0mself\u001b[0m\u001b[1;33m.\u001b[0m\u001b[0merror_handler\u001b[0m\u001b[1;33m.\u001b[0m\u001b[0mcheck_response\u001b[0m\u001b[1;33m(\u001b[0m\u001b[0mresponse\u001b[0m\u001b[1;33m)\u001b[0m\u001b[1;33m\u001b[0m\u001b[1;33m\u001b[0m\u001b[0m\n\u001b[0m\u001b[0;32m    322\u001b[0m             response['value'] = self._unwrap_value(\n\u001b[0;32m    323\u001b[0m                 response.get('value', None))\n",
      "\u001b[1;32mC:\\ProgramData\\Anaconda3\\lib\\site-packages\\selenium\\webdriver\\remote\\errorhandler.py\u001b[0m in \u001b[0;36mcheck_response\u001b[1;34m(self, response)\u001b[0m\n\u001b[0;32m    240\u001b[0m                 \u001b[0malert_text\u001b[0m \u001b[1;33m=\u001b[0m \u001b[0mvalue\u001b[0m\u001b[1;33m[\u001b[0m\u001b[1;34m'alert'\u001b[0m\u001b[1;33m]\u001b[0m\u001b[1;33m.\u001b[0m\u001b[0mget\u001b[0m\u001b[1;33m(\u001b[0m\u001b[1;34m'text'\u001b[0m\u001b[1;33m)\u001b[0m\u001b[1;33m\u001b[0m\u001b[1;33m\u001b[0m\u001b[0m\n\u001b[0;32m    241\u001b[0m             \u001b[1;32mraise\u001b[0m \u001b[0mexception_class\u001b[0m\u001b[1;33m(\u001b[0m\u001b[0mmessage\u001b[0m\u001b[1;33m,\u001b[0m \u001b[0mscreen\u001b[0m\u001b[1;33m,\u001b[0m \u001b[0mstacktrace\u001b[0m\u001b[1;33m,\u001b[0m \u001b[0malert_text\u001b[0m\u001b[1;33m)\u001b[0m\u001b[1;33m\u001b[0m\u001b[1;33m\u001b[0m\u001b[0m\n\u001b[1;32m--> 242\u001b[1;33m         \u001b[1;32mraise\u001b[0m \u001b[0mexception_class\u001b[0m\u001b[1;33m(\u001b[0m\u001b[0mmessage\u001b[0m\u001b[1;33m,\u001b[0m \u001b[0mscreen\u001b[0m\u001b[1;33m,\u001b[0m \u001b[0mstacktrace\u001b[0m\u001b[1;33m)\u001b[0m\u001b[1;33m\u001b[0m\u001b[1;33m\u001b[0m\u001b[0m\n\u001b[0m\u001b[0;32m    243\u001b[0m \u001b[1;33m\u001b[0m\u001b[0m\n\u001b[0;32m    244\u001b[0m     \u001b[1;32mdef\u001b[0m \u001b[0m_value_or_default\u001b[0m\u001b[1;33m(\u001b[0m\u001b[0mself\u001b[0m\u001b[1;33m,\u001b[0m \u001b[0mobj\u001b[0m\u001b[1;33m,\u001b[0m \u001b[0mkey\u001b[0m\u001b[1;33m,\u001b[0m \u001b[0mdefault\u001b[0m\u001b[1;33m)\u001b[0m\u001b[1;33m:\u001b[0m\u001b[1;33m\u001b[0m\u001b[1;33m\u001b[0m\u001b[0m\n",
      "\u001b[1;31mNoSuchElementException\u001b[0m: Message: no such element: Unable to locate element: {\"method\":\"xpath\",\"selector\":\"//a[@id=\"xkkctab_99\"]\"}\n  (Session info: chrome=84.0.4147.125)\n"
     ]
    }
   ],
   "source": [
    "from selenium import webdriver\n",
    "from webdriver_manager.chrome import ChromeDriverManager\n",
    "import os\n",
    "import sys\n",
    "import time\n",
    "import json\n",
    "import selenium\n",
    "import re\n",
    "from selenium.webdriver.common.keys import Keys\n",
    "\n",
    "# 自己的包\n",
    "from mail import send_mail\n",
    "\n",
    "\n",
    "Browser_drive = ChromeDriverManager().install()\n",
    "Browser = webdriver.Chrome\n",
    "option = webdriver.ChromeOptions()\n",
    "# option.add_argument('headless') # 设置option，后台打开\n",
    "\n",
    "\n",
    "def browser_initial(log_url: str):\n",
    "    \"\"\"\"\n",
    "    进行浏览器初始化\n",
    "    \"\"\"\n",
    "    browser = Browser(Browser_drive, chrome_options=option)\n",
    "\n",
    "    browser.get(log_url)\n",
    "\n",
    "    return browser\n",
    "\n",
    "\n",
    "def log_cookie(browser):\n",
    "    \"\"\"\n",
    "    从本地读取cookies并刷新页面,成为已登录状态\n",
    "    \"\"\"\n",
    "    with open('damai_cookies.txt', 'r', encoding='utf8') as f:\n",
    "        listCookies = json.loads(f.read())\n",
    "\n",
    "    # 往browser里添加cookies\n",
    "    for cookie in listCookies:\n",
    "#         cookie_dict = {\n",
    "#             'domain': 'yjs.ruc.edu.cn',\n",
    "#             'name': cookie.get('name'),\n",
    "#             'value': cookie.get('value'),\n",
    "#             \"expires\": '',\n",
    "#             'path': '/',\n",
    "#             'httpOnly': False,\n",
    "#             'HostOnly': False,\n",
    "#             'Secure': False\n",
    "#         }\n",
    "        cookie_dict = cookie\n",
    "        browser.add_cookie(cookie_dict)\n",
    "    browser.refresh()  # 刷新网页,cookies才成功\n",
    "\n",
    "\n",
    "\n",
    "log_url = \"http://yjs.ruc.edu.cn/yjsxkapp/sys/xsxkapp/index.html\"\n",
    "course_name = 'dsaf'\n",
    "browser = browser_initial(log_url)\n",
    "log_cookie(browser)\n",
    "\n",
    "while (True):\n",
    "    browser.get('http://yjs.ruc.edu.cn/yjsxkapp/sys/xsxkapp/course.html')\n",
    "    time.sleep(3)\n",
    "\n",
    "    # 点击查看课表\n",
    "    browser.find_element_by_xpath('//a[@id=\"xkkctab_99\"]').click()\n",
    "    time.sleep(1)\n",
    "    browser.find_element_by_xpath('//input[@id=\"allkc_searchInput\"]'\n",
    "                                  ).send_keys(course_name, Keys.ENTER)\n",
    "    time.sleep(5)\n",
    "    if re.search('已满', browser.page_source) is not None:\n",
    "        print(\"现在还是满的\")\n",
    "        print(re.search('已满', browser.page_source))\n",
    "    else:\n",
    "        send_mail()\n",
    "        break\n",
    "    time.sleep(5)\n",
    "    sys.exit(0)\n"
   ]
  },
  {
   "cell_type": "code",
   "execution_count": 7,
   "metadata": {},
   "outputs": [
    {
     "data": {
      "text/plain": [
       "'<html lang=\"zh-CN\" class=\"\"><head><meta http-equiv=\"Content-Type\" content=\"text/html; charset=utf-8\"><meta name=\"renderer\" content=\"webkit\"><meta http-equiv=\"X-UA-Compatible\" content=\"IE=edge,Chrome=1\"><meta name=\"viewport\" content=\"width=device-width,initial-scale=1\"><meta http-equiv=\"Pragma\" content=\"no-cache\"><meta http-equiv=\"Cache-Control\" content=\"no-cache\"><meta http-equiv=\"Expires\" content=\"0\"><meta http-equiv=\"Cache\" content=\"no-cache\"><title>研究生选课</title><link rel=\"stylesheet\" type=\"text/css\" href=\"//yjs.ruc.edu.cn:81/1.8.1_TR16/products/yjs/xsxkapp/coursejsp.min.css?v=1600725818846\"><script type=\"text/javascript\" src=\"http://yjs.ruc.edu.cn/yjsxkapp/sys/xsxkapp/public/courseTableFieldDefine.js?v=1600725818846\"></script><script type=\"text/javascript\" src=\"//yjs.ruc.edu.cn:81/1.8.1_TR16/products/yjs/xsxkapp/coursejsp.js?v=1600725818846\"></script><script type=\"text/javascript\" src=\"http://yjs.ruc.edu.cn/yjsxkapp/sys/xsxkapp/public/courses.js?v=1600725818846\"></script><style type=\"text/css\">.zeromodal-scroll-margin{margin-right:17px;}</style></head><body class=\"theme-blue\"><div class=\"main\" id=\"course_main_container\" style=\"display: block;\"><header class=\"cv-page-header cv-bg-color-primary cv-clearfix-child\"><div id=\"logoDiv\" style=\"float:left;cursor:pointer\"><img style=\"height:40px;\" src=\"//yjs.ruc.edu.cn:81/1.8.1_TR16/images/logo.png\"></div><div id=\"xkTabContainer\" style=\"margin-left:24px\" class=\"cv-pull-left\" cv-role=\"tabs\"><ul class=\"cv-tabs\">\\t\\t\\t\\t<li class=\"cv-active\">\\t\\t\\t<a id=\"xkkctab_2\" href=\"javascript:void(0)\" role-val=\"2\" role-title=\"方案内课程\" show=\"true\" cv-role=\"tab\">方案内课程</a>\\t\\t</li>\\t\\t\\t\\t<li>\\t\\t\\t<a id=\"xkkctab_1\" href=\"javascript:void(0)\" role-val=\"1\" role-title=\"公选课\" show=\"true\" cv-role=\"tab\">公选课</a>\\t\\t</li>\\t\\t\\t\\t<li>\\t\\t\\t<a id=\"xkkctab_99\" href=\"javascript:void(0)\" role-val=\"99\" role-title=\"开课课程查询\" show=\"true\" cv-role=\"tab\">开课课程查询</a>\\t\\t</li>\\t\\t\\t\\t<li>\\t\\t\\t<a id=\"xkkctab_100\" href=\"javascript:void(0)\" role-val=\"100\" role-title=\"本轮次开课课程查询\" show=\"true\" cv-role=\"tab\">本轮次开课课程查询</a>\\t\\t</li>\\t\\t\\t\\t<li>\\t\\t\\t<a id=\"xkkctab_4\" href=\"javascript:void(0)\" role-val=\"4\" role-title=\"已选课程\" show=\"true\" cv-role=\"tab\">已选课程</a>\\t\\t</li>\\t\\t\\t</ul></div><nav><span id=\"gotoMyPlanSpan\" style=\"display:none\">进入我的培养计划</span> <span id=\"logoutSpan\">退出</span></nav></header><div id=\"xsInfoDiv\" style=\"float:right;margin:4px 32px 8px 0;color:#EF971C\">2020000885-胡帆</div><div id=\"course_msgDiv\" class=\"course_msg\" style=\"display:none\"></div><article id=\"xk_containrt_0\" role=\"kcfltab\" class=\"cv-block-hide cv-pb-38\" style=\"min-height: 310px;\"><div id=\"programSpan\" class=\"course_title\">提示：这里是根据你的<b style=\"font-size:15px;\">培养计划</b>来进行选课。你的培养计划必须是以下状态中的一种：“<b style=\"font-size:15px;\">草稿、待导师审核、待院系审核、待研究生院审核、审核通过、导师审核不通过</b>”。</div><div id=\"xk_containrt_0_queryDiv\" style=\"padding:0 2px;margin-bottom:4px\"></div><div id=\"zynkcGrid\" style=\"min-height:300px\" class=\"cv-expert-mode\"></div></article><article id=\"xk_containrt_2\" role=\"kcfltab\" class=\"cv-pb-38\"><div id=\"fankcSpan\" class=\"course_title\"></div><div id=\"xk_containrt_2_queryDiv\" style=\"padding:0 2px;margin-bottom:4px\"><form id=\"fankcQueryForm\" class=\"query-form\">\\t\\t<div class=\"col-lg-12\">\\t\\t\\t<div class=\"form-inline col-lg-3\">\\t\\t\\t\\t<label class=\"col-md-5 col-form-label\">关键字</label>\\t\\t\\t\\t<div class=\"col-md-7\" style=\"line-height:32px;\">\\t\\t\\t\\t\\t<input id=\"fankc_searchInput\" name=\"query_keyword\" type=\"text\" class=\"form-control\" placeholder=\"课程代码、名称或任课教师\">\\t\\t\\t\\t</div>\\t\\t\\t</div>\\t\\t\\t<div class=\"form-inline col-lg-3\">\\t\\t\\t\\t<label class=\"col-md-5 col-form-label\">课程标签</label>\\t\\t\\t\\t<div class=\"col-md-7\" style=\"line-height:32px;\">\\t\\t\\t\\t\\t<select id=\"fankc_kcbq\" name=\"query_kcbq\" class=\"form-control\"> <option value=\"\">...</option></select>\\t\\t\\t\\t</div>\\t\\t\\t</div>\\t\\t\\t<div class=\"form-inline col-lg-3\">\\t\\t\\t\\t<label class=\"col-md-5 col-form-label\">校区</label>\\t\\t\\t\\t<div class=\"col-md-7\" style=\"line-height:32px;\">\\t\\t\\t\\t\\t<select id=\"fankc_xqdm\" name=\"query_xqdm\" class=\"form-control\"> <option value=\"\">...</option><option value=\"01\" title=\"北京校区\">北京校区</option><option value=\"02\" title=\"通州校区\">通州校区</option><option value=\"03\" title=\"苏州校区\">苏州校区</option></select>\\t\\t\\t\\t</div>\\t\\t\\t</div>\\t\\t\\t<div class=\"form-inline col-lg-3\">\\t\\t\\t\\t<label class=\"col-md-5 col-form-label\">授课语言</label>\\t\\t\\t\\t<div class=\"col-md-7\" style=\"line-height:32px;\">\\t\\t\\t\\t\\t<select id=\"fankc_skyy\" name=\"query_skyydm\" class=\"form-control\"> <option value=\"\">...</option><option value=\"01\" title=\"中文\">中文</option><option value=\"02\" title=\"英文\">英文</option><option value=\"03\" title=\"双语\">双语</option></select>\\t\\t\\t\\t</div>\\t\\t\\t</div>\\t\\t\\t<div class=\"form-inline col-lg-3\">\\t\\t\\t\\t<label class=\"col-md-5 col-form-label\" title=\"是否与已选课程上课时间冲突\">是否与已选课程上课时间冲突</label>\\t\\t\\t\\t<div class=\"col-md-7\" style=\"line-height:32px;\">\\t\\t\\t\\t\\t<select id=\"fankc_sfct\" name=\"query_sfct\" class=\"form-control\"><option value=\"\">...</option><option value=\"0\">不冲突</option><option value=\"1\">冲突</option></select>\\t\\t\\t\\t</div>\\t\\t\\t</div>\\t\\t\\t<div class=\"form-inline col-lg-3\">\\t\\t\\t\\t<label class=\"col-md-5 col-form-label\">是否已满</label>\\t\\t\\t\\t<div class=\"col-md-7\" style=\"line-height:32px;\">\\t\\t\\t\\t\\t<select id=\"fankc_sfym\" name=\"query_sfym\" class=\"form-control\"><option value=\"\">...</option><option value=\"0\">未满</option><option value=\"1\">已满</option></select>\\t\\t\\t\\t</div>\\t\\t\\t</div>\\t\\t</div>\\t\\t<div class=\"querybtn-container\">\\t\\t\\t<input class=\"zeromodal-btn zeromodal-btn-primary querybtn\" type=\"button\" value=\"查询\" role-action=\"query\">\\t\\t\\t<input type=\"text\" name=\"fixedAutoSubmitBug\" value=\"\" style=\"display:none;\">\\t\\t</div>\\t</form></div><div id=\"fankcGrid\" style=\"min-height:300px\" class=\"cv-expert-mode\"><div id=\"waitDiv_df32e7d7c0c3440695100a8b6c6b04e8\" class=\"ui_grid_loading\" style=\"position: absolute; width: 853px; height: 36px; display: none;\"></div>   <table class=\"zero-grid zero-grid-hover\" id=\"table_df32e7d7c0c3440695100a8b6c6b04e8\" table-unique=\"df32e7d7c0c3440695100a8b6c6b04e8\">       <thead>           <tr><th width=\"24%\">课程</th><th width=\"14%\">开课院系</th><th width=\"10%\">任课教师</th><th width=\"10%\">校区</th><th width=\"70px\">授课语言</th><th width=\"60px\">学分</th><th>上课时间地点</th><th width=\"60px\">容量</th><th width=\"7%\">操作</th>           </tr>       </thead>       <tbody id=\"tbody_df32e7d7c0c3440695100a8b6c6b04e8\" style=\"font-size:12px;\"><tr><td style=\"text-align:center;line-height: 40px;\" colspan=\"9\">没有数据显示！</td></tr></tbody>   </table>   <div id=\"pagination_df32e7d7c0c3440695100a8b6c6b04e8\" class=\"zero-grid-pagination-d\"></div></div></article><article id=\"xk_containrt_1\" role=\"kcfltab\" class=\"cv-block-hide cv-pb-38\"><div id=\"gxkSpan\" class=\"course_title\">提示：你的培养计划必须是以下状态中的一种：“<b style=\"font-size:15px;\">草稿、待导师审核、待院系审核、待研究生院审核、审核通过、导师审核不通过</b>”。</div><div id=\"xk_containrt_1_queryDiv\" style=\"padding:0 2px;margin-bottom:4px\"></div><div id=\"gxkGrid\" style=\"min-height:300px\" class=\"cv-expert-mode\"></div></article><article id=\"xk_containrt_5\" role=\"kcfltab\" class=\"cv-block-hide cv-pb-38\" style=\"min-height: 310px;\"><div class=\"course_title\"></div><div id=\"xk_containrt_5_queryDiv\" style=\"padding:0 2px;margin-bottom:4px\"><input id=\"cxkcSearch\" class=\"cv-search-input\" placeholder=\"请输入课程代码或名称\" type=\"text\"></div><div id=\"cxkcGrid\" style=\"min-height:300px\" class=\"cv-expert-mode\"></div></article><article id=\"xk_containrt_4\" role=\"kcfltab\" class=\"cv-block-hide cv-pb-38\" style=\"min-height: 310px;\"><div class=\"course_title\"></div><div id=\"yxkcGrid\" style=\"min-height:300px\" class=\"cv-expert-mode\"></div></article><article id=\"xk_containrt_99\" role=\"kcfltab\" class=\"cv-block-hide cv-pb-38\"><div class=\"course_title\">当前页面显示的是本学期的所有的课程信息，仅供查看与选课资格校验使用。</div><div id=\"xk_containrt_99_queryDiv\" style=\"margin-bottom:4px\"></div><div id=\"allCourseGrid\" style=\"min-height:300px\" class=\"cv-expert-mode\"></div></article><article id=\"xk_containrt_100\" role=\"kcfltab\" class=\"cv-block-hide cv-pb-38\"><div class=\"course_title\">当前页面显示的是本轮次开放选课的所有的课程信息，仅供查看与选课资格校验使用。</div><div id=\"xk_containrt_100_queryDiv\" style=\"margin-bottom:4px\"></div><div id=\"blcAllCourseGrid\" style=\"min-height:300px\" class=\"cv-expert-mode\"></div></article><aside id=\"cvAside\" class=\"cv-aside\"><div class=\"cv-mini\"><div class=\"cv-icons\"><div class=\"cv-user-icon cvMiniIconFlag\" id=\"toMyHome\" title=\"返回首页\"><div class=\"pic_home\"></div></div><div class=\"cv-course-icon cvMiniIconFlag\" id=\"myCourseTable\" title=\"我的课表\"><div class=\"pic_mycourse\"></div></div><div class=\"cv-course-icon cvMiniIconFlag\" id=\"myTkrz\" title=\"退课日志\"><div class=\"pic_log\"></div></div></div><div class=\"cv-top cvMiniIconFlag\" id=\"returnTop\">TOP</div></div></aside><input type=\"text\" style=\"display:none\" id=\"csrfToken\" value=\"\"><footer class=\"cv-page-footer\"><div id=\"ecDiv\"></div><div id=\"cDiv\"></div><div class=\"cv-mb-38 cv-caption-text\" id=\"authorDiv\"></div><div id=\"cv_copyright\" class=\"cv-copyright\"></div></footer></div><script type=\"text/javascript\">var path_ggf=window.location.href;var end_ggf=path_ggf.indexOf(\"/sys/\");var context_path=path_ggf.substring(0,end_ggf);var BaseUrl=context_path;var length=BaseUrl.length;if(BaseUrl.indexOf(length-1,length)==\"/\"){BaseUrl=BaseUrl.substring(0,length-1)}var commonUtil={loadJsCss:function(a,b,d){var c;if(b==\"js\"){c=document.createElement(\"script\");c.setAttribute(\"type\",\"text/javascript\");c.setAttribute(\"src\",a)}else{if(b==\"css\"){c=document.createElement(\"link\");c.setAttribute(\"rel\",\"stylesheet\");c.setAttribute(\"type\",\"text/css\");c.setAttribute(\"href\",a)}}if(c){if(c.addEventListener){c.addEventListener(\"load\",function(){typeof d===\"function\"&&d()},false)}else{if(c.attachEvent){c.attachEvent(\"onreadystatechange\",function(){var e=window.event.srcElement;if(e.readyState==\"loaded\"){typeof d===\"function\"&&d()}})}}document.getElementsByTagName(\"head\")[0].appendChild(c)}},ajax:function(a,b,c){commonUtil.simpleAjax({url:a.url,dataType:a.dataType,data:b,type:a.type,success:function(d){if(typeof c===\"function\"){c(d)}},error:function(d){}})},get:function(a,b,c){commonUtil.ajax({url:a,dataType:\"json\",type:\"get\",},b,c)},post:function(a,b,c){commonUtil.ajax({url:a,dataType:\"json\",type:\"post\",},b,c)},getRootPath:function(){var b=window.document.location.href;var c=window.document.location.pathname;var e=b.indexOf(c);var d=b.substring(0,e);var a=c.substring(0,c.substr(1).indexOf(\"/\")+1);return(d+a)},simpleAjax:function(b){b.data=b.data||\"\";b.type=b.type||\"get\";if(!b.url){throw new Error(\"未指定连接\")}b.async=b.async||true;var a;if(window.VBArray){a=new ActiveXObject(\"Msxml2.XMLHTTP\")}else{a=new XMLHttpRequest()}a.open(b.type,b.url,b.async);a.onreadystatechange=function(){if(a.status==200){if(a.readyState==4){b.success?b.success(a.responseText):\"\"}}else{throw new Error(\"请求失败，状态码：\"+a.status)}};if(b.type==\"get\"){a.send()}else{a.setRequestHeader(\"Content-type\",\"application/x-www-form-urlencoded\");a.send(b.data)}},isBlank:function(a){return a===undefined||a===null||a===\"\"},strOf:function(a){return a!=undefined&&a!=null&&a!==\"\"?(a+\"\"):\"\"},gotoDzPage:function(a,c){if(!window.WIS_PUBLIC_INFO){return}var b=\"\";var d=a===\"course\"?window.WIS_PUBLIC_INFO[\"coursePage\"]:window.WIS_PUBLIC_INFO[\"indexPage\"];if(!commonUtil.isBlank(d)){b=c+d+\".html\"}else{b=c+a+\".html\"}location.href=b},checkAndGoDzPage:function(d,b){if(commonUtil.isBlank(d)){return}var a=location.href.split(\"#\")[0].split(\"/\");var c=a[a.length-1].replace(\".html\",\"\");if(c.indexOf(\"en\")!==-1){return}if(d!==c){location.href=b+d+\".html\"}},getProjectName:function(){var b=window.document.location.href;var c=window.document.location.pathname;var e=b.indexOf(c);var d=b.substring(0,e);var a=c.substring(0,c.substr(1).indexOf(\"/\")+1);return a+\"/\"}};var cookieUtil={set:function set(a,c){var b=30;var d=new Date();d.setTime(d.getTime()+b*24*60*60*1000);document.cookie=a+\"=\"+escape(c)+\";expires=\"+d.toGMTString()+\";path=\"+commonUtil.getProjectName()},get:function(b){var a,c=new RegExp(\"(^| )\"+b+\"=([^;]*)(;|$)\");if(a=document.cookie.match(c)){return unescape(a[2])}else{return null}}};\\n\\n        cookieUtil.set(\\'EMAP_LANG\\',\\'zh\\');\\n    \\tcommonUtil.get(commonUtil.getRootPath()+\\'/sys/xsxkapp/xsxkHome/loadPublicInfo_course.do\\',{},function(r) {\\n\\t\\t\\twindow.WIS_PUBLIC_INFO=JSON.parse(r);\\n        \\twindow.isViewCxTitle=window.WIS_PUBLIC_INFO.isViewCxTitle;\\n        \\twindow.isViewGxkTitle=window.WIS_PUBLIC_INFO.isViewGxkTitle;\\n        \\twindow.appLogoutPath=window.WIS_PUBLIC_INFO.appLogoutPath;\\n\\t\\t\\twindow.gotoWdjhPath=window.WIS_PUBLIC_INFO.gotoWdjhPath;\\n        \\twindow.WIS_LABEL=window.WIS_PUBLIC_INFO.labelMap;\\n        \\twindow.WIS_XSINFO=window.WIS_PUBLIC_INFO.xsMap;\\n            window.WIS_LCXX=window.WIS_PUBLIC_INFO.lcxxMap;\\n        \\twindow.WIS_XTCS=window.WIS_PUBLIC_INFO.xtcsMap;\\n            var theme=commonUtil.isBlank(window.WIS_PUBLIC_INFO.theme)?\\'theme-blue\\':window.WIS_PUBLIC_INFO.theme;\\n            document.getElementsByTagName(\\'body\\')[0].classList.add(theme);\\n\\n            commonUtil.checkAndGoDzPage(window.WIS_PUBLIC_INFO.coursePage||\\'course\\',BaseUrl+\\'/sys/xsxkapp/\\');\\n\\t\\t\\tcommonUtil.loadJsCss(WIS_PUBLIC_INFO.resUrl+\\'/xsxkapp/coursejsp.min.css?v=\\'+window.WIS_PUBLIC_INFO.system_boot_time,\\'css\\',function(){\\n\\t\\t\\t\\tdocument.getElementById(\\'course_main_container\\').style.display=\\'block\\';\\n\\t\\t\\t});\\n\\n\\t\\t\\tvar define = !commonUtil.isBlank(window.WIS_PUBLIC_INFO.courseTableFieldDefine)?(\\'_\\'+window.WIS_PUBLIC_INFO.courseTableFieldDefine):\\'\\';\\n\\t\\t\\tcommonUtil.loadJsCss(BaseUrl+\\'/sys/xsxkapp/public/courseTableFieldDefine\\'+define+\\'.js?v=\\'+window.WIS_PUBLIC_INFO.system_boot_time,\\'js\\');\\n\\t\\t\\tcommonUtil.loadJsCss(WIS_PUBLIC_INFO.resUrl+\\'/xsxkapp/coursejsp.js?v=\\'+window.WIS_PUBLIC_INFO.system_boot_time,\\'js\\',function(){\\n\\t\\t\\t\\tcommonUtil.loadJsCss(BaseUrl+\\'/sys/xsxkapp/public/courses.js?v=\\'+window.WIS_PUBLIC_INFO.system_boot_time,\\'js\\');\\n\\t\\t\\t});\\n    \\t});</script></body></html>'"
      ]
     },
     "execution_count": 7,
     "metadata": {},
     "output_type": "execute_result"
    }
   ],
   "source": [
    "browser.page_source"
   ]
  }
 ],
 "metadata": {
  "kernelspec": {
   "display_name": "Python 3",
   "language": "python",
   "name": "python3"
  },
  "language_info": {
   "codemirror_mode": {
    "name": "ipython",
    "version": 3
   },
   "file_extension": ".py",
   "mimetype": "text/x-python",
   "name": "python",
   "nbconvert_exporter": "python",
   "pygments_lexer": "ipython3",
   "version": "3.7.4"
  }
 },
 "nbformat": 4,
 "nbformat_minor": 4
}
