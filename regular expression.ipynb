{
 "cells": [
  {
   "cell_type": "code",
   "execution_count": 59,
   "metadata": {},
   "outputs": [
    {
     "name": "stdout",
     "output_type": "stream",
     "text": [
      "['-0.008804422', '0.024896538', '0.000000000']\n",
      "  -40.3015670087     \n"
     ]
    }
   ],
   "source": [
    "# 举例\n",
    "import re\n",
    "\n",
    "p1 = re.compile(r'-?\\d\\.\\d{9}')\n",
    "# 这里打包成SRE_Pattern对象\n",
    "\n",
    "r = p1.findall('-0.008804422    0.024896538    0.000000000')\n",
    "print(r)\n",
    "\n",
    "p2 = re.compile(r'=(.+?)A.U')\n",
    "\n",
    "r = p2.search('E(RB3LYP) =  -40.3015670087     A.U.')\n",
    "print(r.group(1))"
   ]
  },
  {
   "cell_type": "markdown",
   "metadata": {},
   "source": [
    "# 1. 正则表达式"
   ]
  },
  {
   "cell_type": "code",
   "execution_count": 1,
   "metadata": {},
   "outputs": [],
   "source": [
    "## "
   ]
  },
  {
   "cell_type": "code",
   "execution_count": 2,
   "metadata": {},
   "outputs": [],
   "source": [
    "# 实现正则模块\n",
    "import re"
   ]
  },
  {
   "cell_type": "code",
   "execution_count": 53,
   "metadata": {},
   "outputs": [
    {
     "name": "stdout",
     "output_type": "stream",
     "text": [
      "Help on function search in module re:\n",
      "\n",
      "search(pattern, string, flags=0)\n",
      "    Scan through string looking for a match to the pattern, returning\n",
      "    a match object, or None if no match was found.\n",
      "\n"
     ]
    }
   ],
   "source": [
    "help(re.search) # 扫描整个字符串并返回第一个成功的匹配。\n"
   ]
  },
  {
   "cell_type": "code",
   "execution_count": 46,
   "metadata": {},
   "outputs": [
    {
     "name": "stdout",
     "output_type": "stream",
     "text": [
      "c:\\ab\\bc\\cd\\\n",
      "c:\\ab\n",
      "c:\\ab\n"
     ]
    },
    {
     "data": {
      "text/plain": [
       "<_sre.SRE_Match object; span=(7, 12), match='FishC'>"
      ]
     },
     "execution_count": 46,
     "metadata": {},
     "output_type": "execute_result"
    }
   ],
   "source": [
    "# 前面的一个 r 表示字符串为非转义的原始字符串，让编译器忽略反斜杠，也就是忽略转义字符。s\n",
    "'''\n",
    "r:Python中字符串前面加上 r 表示原生字符串（rawstring）\n",
    "不使用r，那么匹配时候需要4个反斜杠，正则需要转化一次，python解释器需要转化一次\n",
    "'''\n",
    "mm=\"c:\\\\ab\\\\bc\\\\cd\\\\\"\n",
    "print (mm)\n",
    "r=re.match(\"c:\\\\\\\\ab\",mm)\n",
    "print (r.group())\n",
    "r=re.match(r\"c:\\\\ab\",mm).group()\n",
    "print (r)\n",
    "\n",
    "re.search(r'FishC', 'I love FishC.com')"
   ]
  },
  {
   "cell_type": "code",
   "execution_count": 4,
   "metadata": {},
   "outputs": [
    {
     "name": "stdout",
     "output_type": "stream",
     "text": [
      "<_sre.SRE_Match object; span=(0, 1), match='I'>\n",
      "<_sre.SRE_Match object; span=(7, 12), match='FishC'>\n"
     ]
    }
   ],
   "source": [
    "# '.'代表除了换行符之外的任何字符\n",
    "print(re.search(r'.', 'I love fishC'))\n",
    "print(re.search(r'Fish.', 'I love FishC'))\n"
   ]
  },
  {
   "cell_type": "code",
   "execution_count": 30,
   "metadata": {},
   "outputs": [
    {
     "data": {
      "text/plain": [
       "<_sre.SRE_Match object; span=(7, 12), match='Fish.'>"
      ]
     },
     "execution_count": 30,
     "metadata": {},
     "output_type": "execute_result"
    }
   ],
   "source": [
    "# '\\.'代表小数点\n",
    "re.search(r'Fish\\.', 'I love Fish.')"
   ]
  },
  {
   "cell_type": "markdown",
   "metadata": {},
   "source": [
    "用中括号[]可以限定范围"
   ]
  },
  {
   "cell_type": "code",
   "execution_count": 6,
   "metadata": {},
   "outputs": [
    {
     "name": "stdout",
     "output_type": "stream",
     "text": [
      "<_sre.SRE_Match object; span=(1, 2), match='2'>\n",
      "<_sre.SRE_Match object; span=(7, 8), match='c'>\n"
     ]
    }
   ],
   "source": [
    "print(re.search(r'[2-4]', '123456'))\n",
    "print(re.search(r'[b-e]', 'python_cc'))"
   ]
  },
  {
   "cell_type": "markdown",
   "metadata": {},
   "source": [
    "'...{}'表示前面的字符重复的次数"
   ]
  },
  {
   "cell_type": "code",
   "execution_count": 7,
   "metadata": {},
   "outputs": [
    {
     "name": "stdout",
     "output_type": "stream",
     "text": [
      "None\n",
      "<_sre.SRE_Match object; span=(4, 8), match='abbb'>\n",
      "<_sre.SRE_Match object; span=(4, 11), match='abbbbbb'>\n"
     ]
    }
   ],
   "source": [
    "print(re.search(r'ab{3}', 'I llababab'))\n",
    "print(re.search(r'ab{3}', 'I llabbb'))\n",
    "\n",
    "# 匹配3-10次\n",
    "print(re.search(r'ab{3,10}', 'I llabbbbbb'))"
   ]
  },
  {
   "cell_type": "markdown",
   "metadata": {},
   "source": [
    "\\d代表一个整数\n",
    "如果要匹配一个ip地址？(匹配0-255之间的数)"
   ]
  },
  {
   "cell_type": "code",
   "execution_count": 51,
   "metadata": {},
   "outputs": [
    {
     "data": {
      "text/plain": [
       "'192.168.100.100'"
      ]
     },
     "execution_count": 51,
     "metadata": {},
     "output_type": "execute_result"
    }
   ],
   "source": [
    "a = re.search(r'\\d\\d\\d.\\d\\d\\d.\\d\\d\\d.\\d\\d\\d', '192.168.100.100')\n",
    "a.group()\n",
    "# 太难看了，而且不能用"
   ]
  },
  {
   "cell_type": "code",
   "execution_count": 45,
   "metadata": {},
   "outputs": [
    {
     "name": "stdout",
     "output_type": "stream",
     "text": [
      "<_sre.SRE_Match object; span=(0, 1), match='1'>\n",
      "None\n",
      "None\n",
      "<_sre.SRE_Match object; span=(0, 15), match='192.168.100.100'>\n"
     ]
    }
   ],
   "source": [
    "print(re.search(r'[0-255]', '188.1'))\n",
    "# 结果只匹配了1\n",
    "\n",
    "print(re.search(r'[100-299]\\\\.', r'188.1'))\n",
    "# 不行，不知道为什么\n",
    "\n",
    "print(re.search(r'([01]{0,1}\\d{0,1}\\d|2[0-4]\\d|25[0-5]\\.){3}([01]{0,1}\\d{0,1}\\d|2[0-4]\\d|25[0-5])', '192.168.100.100'))\n",
    "# 这个是照着敲的，也不行\n",
    "\n",
    "print(re.search(r'([0-9]{1,3}\\.){3}[0-9]{1,3}', '192.168.100.100'))"
   ]
  },
  {
   "cell_type": "markdown",
   "metadata": {},
   "source": [
    "## 元字符"
   ]
  },
  {
   "cell_type": "markdown",
   "metadata": {},
   "source": [
    ". :除了换行符之外的任何字符\n",
    "\n",
    "| :\n",
    "\n",
    "^ : 1.匹配字符串的开始位置；2.\n",
    "\n",
    "$ : 匹配字符串的结束位置\n",
    "\n"
   ]
  },
  {
   "cell_type": "code",
   "execution_count": 10,
   "metadata": {},
   "outputs": [
    {
     "name": "stdout",
     "output_type": "stream",
     "text": [
      "None\n",
      "(0, 4)\n",
      "(11, 15)\n"
     ]
    }
   ],
   "source": [
    "print(re.search(r'^fish', \"I love eat fish\"))\n",
    "\n",
    "print(re.search(r'^fish', \"fish I love eat \").span())\n",
    "\n",
    "print(re.search(r'fish$', \"I love eat fish\").span())"
   ]
  },
  {
   "cell_type": "markdown",
   "metadata": {},
   "source": [
    "~~~\n",
    "\\ : \n",
    "1.将普通字符转化为特殊字符。\n",
    "2.解除元字符的特殊功能\n",
    "3.\\加数字n，代表第n个子组, n>=1\n",
    "\n",
    "[...] :\n",
    "1.字符类，匹配所包含的任意字符。\n",
    "2.^如果出现在首位表示除了[]里的内容，其它都匹配，出现在其他位表示^本身\n",
    "\n",
    "{M,N} : \n",
    "表示匹配M-N次\n",
    "~~~\n"
   ]
  },
  {
   "cell_type": "code",
   "execution_count": 55,
   "metadata": {},
   "outputs": [
    {
     "name": "stdout",
     "output_type": "stream",
     "text": [
      "(11, 19)\n",
      "(15, 16)\n",
      "['i', 's', 'h', 'z']\n",
      "['F', 'C', '.', '\\n']\n",
      "<_sre.SRE_Match object; span=(0, 7), match='FishCCC'>\n",
      "<_sre.SRE_Match object; span=(0, 15), match='FishCFishCFishC'>\n"
     ]
    }
   ],
   "source": [
    "print(re.search(r'(fish)\\1', \"I love eat fishfish\").span())\n",
    "\n",
    "print(re.search(r'[.]', \"I love eat fish.com\").span())\n",
    "# 代表.\n",
    "\n",
    "print(re.findall(r\"[a-z]\", \"FishC.z\"))\n",
    "\n",
    "print(re.findall(r\"[^a-z]\", \"FishC.z\\n\"))\n",
    "# 除了[]里的内容，其它都匹配\n",
    "\n",
    "print(re.search(r\"FishC{3}\", \"FishCCCCC\"))\n",
    "print(re.search(r\"(FishC){3}\", \"FishCFishCFishCCCCC\"))"
   ]
  },
  {
   "cell_type": "markdown",
   "metadata": {},
   "source": [
    "## 这里推荐使用下面的符号\n",
    "\n",
    "'?' : \n",
    "只匹配前面的子表达式0或1次，等价与{0,1}\n",
    "\n",
    "'+' : \n",
    "只匹配前面的子表达式1或多次，等价与{1,}\n",
    "\n",
    "'*' : \n",
    "匹配前面的子表达式0或多次，等价与{0,}"
   ]
  },
  {
   "cell_type": "code",
   "execution_count": 12,
   "metadata": {},
   "outputs": [
    {
     "name": "stdout",
     "output_type": "stream",
     "text": [
      "<_sre.SRE_Match object; span=(0, 26), match='<html><title><title><html>'>\n",
      "<_sre.SRE_Match object; span=(0, 6), match='<html>'>\n"
     ]
    }
   ],
   "source": [
    "# 默认贪婪模式\n",
    "s='<html><title><title><html>'\n",
    "print(re.search(r\"<.+>\", s))\n",
    "\n",
    "# 非贪婪\n",
    "print(re.search(r\"<.+?>\", s))"
   ]
  },
  {
   "cell_type": "code",
   "execution_count": 13,
   "metadata": {},
   "outputs": [
    {
     "data": {
      "text/plain": [
       "['fish', 'fish']"
      ]
     },
     "execution_count": 13,
     "metadata": {},
     "output_type": "execute_result"
    }
   ],
   "source": [
    "# \\b : 匹配一个单词边界，单词被定义为Unicode的字母数字或下横线字符\n",
    "# 下面应该是匹配了第一/三个fish\n",
    "re.findall(r'\\bfish\\b', 'fish.com, fish_com,(fish)')\n",
    "\n",
    "# \\B: 与\\b相反"
   ]
  },
  {
   "cell_type": "markdown",
   "metadata": {},
   "source": [
    "'\\s' : \n",
    "匹配Unicode中的空白字符\n",
    "\n",
    "'\\w' : \n",
    "匹配Unicode中的单词字符\n"
   ]
  },
  {
   "cell_type": "code",
   "execution_count": 14,
   "metadata": {},
   "outputs": [
    {
     "name": "stdout",
     "output_type": "stream",
     "text": [
      "['我', '爱', '鱼', 'C', '工', '作', '室', 'I', 'l', 'o', 'v', 'e', 'f', 'i', 's', 'h', '_', 'C']\n"
     ]
    }
   ],
   "source": [
    "print(re.findall(r'\\w', '我爱鱼C工作室，I love fish_C'))"
   ]
  },
  {
   "cell_type": "markdown",
   "metadata": {},
   "source": [
    "# 2. 编译正则表达式"
   ]
  },
  {
   "cell_type": "code",
   "execution_count": 15,
   "metadata": {},
   "outputs": [
    {
     "name": "stdout",
     "output_type": "stream",
     "text": [
      "<class '_sre.SRE_Pattern'>\n"
     ]
    }
   ],
   "source": [
    "p = re.compile(r'[A-Z]')\n",
    "# 这里把(r'[A-Z]')打包成SRE_Pattern对象\n",
    "\n",
    "print(type(p))"
   ]
  },
  {
   "cell_type": "code",
   "execution_count": 16,
   "metadata": {},
   "outputs": [
    {
     "name": "stdout",
     "output_type": "stream",
     "text": [
      "<_sre.SRE_Match object; span=(0, 1), match='I'>\n",
      "['I', 'L', 'F', 'C']\n"
     ]
    }
   ],
   "source": [
    "print(p.search(\"I Love FishC\"))\n",
    "\n",
    "print(p.findall(\"I Love FishC\"))"
   ]
  },
  {
   "cell_type": "markdown",
   "metadata": {},
   "source": [
    "# 3. VERBOSE增加可读性"
   ]
  },
  {
   "cell_type": "code",
   "execution_count": 17,
   "metadata": {},
   "outputs": [
    {
     "data": {
      "text/plain": [
       "['1', '0', '9']"
      ]
     },
     "execution_count": 17,
     "metadata": {},
     "output_type": "execute_result"
    }
   ],
   "source": [
    "\n",
    "charref = re.compile(r\"\"\"\n",
    "&[#]   # 开始数字引用\n",
    "(\n",
    "    0[0-7]+   # 8进制\n",
    "    | [0-9]+  # 10进制\n",
    "    | x[0-9a-fA-F]+   # 十六进制\n",
    ")\n",
    ";   # 结尾分号\n",
    "\n",
    "\"\"\", re.VERBOSE)\n",
    "\n",
    "p=re.compile(r\"\"\"\n",
    "[0,1] |\n",
    "9\n",
    "\"\"\", re.VERBOSE)\n",
    "\n",
    "p.findall(\"sr10292\")"
   ]
  },
  {
   "cell_type": "markdown",
   "metadata": {},
   "source": [
    "# "
   ]
  },
  {
   "cell_type": "code",
   "execution_count": 18,
   "metadata": {},
   "outputs": [
    {
     "name": "stdout",
     "output_type": "stream",
     "text": [
      "Help on function search in module re:\n",
      "\n",
      "search(pattern, string, flags=0)\n",
      "    Scan through string looking for a match to the pattern, returning\n",
      "    a match object, or None if no match was found.\n",
      "\n",
      "Help on built-in function search:\n",
      "\n",
      "search(string=None, pos=0, endpos=9223372036854775807, *, pattern=None) method of _sre.SRE_Pattern instance\n",
      "    Scan through string looking for a match, and return a corresponding match object instance.\n",
      "    \n",
      "    Return None if no position in the string matches.\n",
      "\n"
     ]
    }
   ],
   "source": [
    "help(re.search)\n",
    "\n",
    "help(p.search)"
   ]
  }
 ],
 "metadata": {
  "kernelspec": {
   "display_name": "Python 3",
   "language": "python",
   "name": "python3"
  },
  "language_info": {
   "codemirror_mode": {
    "name": "ipython",
    "version": 3
   },
   "file_extension": ".py",
   "mimetype": "text/x-python",
   "name": "python",
   "nbconvert_exporter": "python",
   "pygments_lexer": "ipython3",
   "version": "3.7.4"
  }
 },
 "nbformat": 4,
 "nbformat_minor": 4
}
